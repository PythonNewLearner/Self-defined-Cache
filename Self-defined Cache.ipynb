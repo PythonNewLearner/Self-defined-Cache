{
 "cells": [
  {
   "cell_type": "code",
   "execution_count": 1,
   "metadata": {},
   "outputs": [],
   "source": [
    "import inspect\n",
    "from functools import wraps\n",
    "import time"
   ]
  },
  {
   "cell_type": "code",
   "execution_count": 2,
   "metadata": {},
   "outputs": [],
   "source": [
    "def mag_cache(fn):\n",
    "    local_cache = {}\n",
    "    @wraps(fn)\n",
    "    def wrapper(*args,**kwargs):\n",
    "        sig = inspect.signature(fn)\n",
    "        params = sig.parameters ##ordered dict\n",
    "        param_dict = {}\n",
    "        \n",
    "        param_dict.update(zip(params.keys(),args)) #pisitional parameters\n",
    "        param_dict.update(kwargs)          #key-word parameters\n",
    "        \n",
    "        for k,v in params.items():   ##default parameter\n",
    "            if k not in param_dict:\n",
    "                param_dict[k] = v.default\n",
    "            \n",
    "        key = tuple(sorted(param_dict.items()))\n",
    "        \n",
    "        if key not in local_cache:\n",
    "            local_cache[key] = fn(*args,**kwargs)\n",
    "    \n",
    "        return local_cache\n",
    "    return wrapper\n",
    "\n",
    "@mag_cache\n",
    "def add(x=4,y=5):\n",
    "    time.sleep(3)\n",
    "    return x+y"
   ]
  },
  {
   "cell_type": "code",
   "execution_count": 3,
   "metadata": {},
   "outputs": [
    {
     "data": {
      "text/plain": [
       "{(('x', 4), ('y', 5)): 9}"
      ]
     },
     "execution_count": 3,
     "metadata": {},
     "output_type": "execute_result"
    }
   ],
   "source": [
    "add()"
   ]
  },
  {
   "cell_type": "code",
   "execution_count": 4,
   "metadata": {},
   "outputs": [
    {
     "data": {
      "text/plain": [
       "{(('x', 4), ('y', 5)): 9}"
      ]
     },
     "execution_count": 4,
     "metadata": {},
     "output_type": "execute_result"
    }
   ],
   "source": [
    "add(4,5)"
   ]
  },
  {
   "cell_type": "code",
   "execution_count": null,
   "metadata": {},
   "outputs": [],
   "source": []
  }
 ],
 "metadata": {
  "kernelspec": {
   "display_name": "Python 3",
   "language": "python",
   "name": "python3"
  },
  "language_info": {
   "codemirror_mode": {
    "name": "ipython",
    "version": 3
   },
   "file_extension": ".py",
   "mimetype": "text/x-python",
   "name": "python",
   "nbconvert_exporter": "python",
   "pygments_lexer": "ipython3",
   "version": "3.6.8"
  }
 },
 "nbformat": 4,
 "nbformat_minor": 2
}
