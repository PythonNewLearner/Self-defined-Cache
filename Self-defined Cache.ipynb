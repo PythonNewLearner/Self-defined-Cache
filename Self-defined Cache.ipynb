{
 "cells": [
  {
   "cell_type": "code",
   "execution_count": 8,
   "metadata": {},
   "outputs": [],
   "source": [
    "import inspect\n",
    "from functools import wraps\n",
    "import time\n",
    "import datetime"
   ]
  },
  {
   "cell_type": "code",
   "execution_count": 9,
   "metadata": {},
   "outputs": [],
   "source": [
    "def mag_cache(fn):\n",
    "    local_cache = {}\n",
    "    @wraps(fn)\n",
    "    def wrapper(*args,**kwargs):\n",
    "        \n",
    "        def _clear_expire():\n",
    "            expire_keys = []\n",
    "            for k ,(_,stamp) in local_cache.items():\n",
    "                if datetime.datetime.now().timestamp() - stamp > 5: #handling time: delete element exceeding 5 seconds\n",
    "                    expire_keys.append(k)\n",
    "            for k in expire_keys:\n",
    "                local_cache.pop(k)\n",
    "                \n",
    "        def _make_key(args,kwargs):  \n",
    "            sig = inspect.signature(fn)\n",
    "            params = sig.parameters ## ordered dict\n",
    "            param_dict = {}\n",
    "\n",
    "            param_dict.update(zip(params.keys(),args)) #positional parameters\n",
    "            param_dict.update(kwargs)          #key-word parameters\n",
    "\n",
    "            for k,v in params.items():   ##default parameters\n",
    "                if k not in param_dict:\n",
    "                    param_dict[k] = v.default\n",
    "\n",
    "            key = tuple(sorted(param_dict.items()))\n",
    "            return key\n",
    "        \n",
    "        _clear_expire()\n",
    "        key = _make_key(args,kwargs)\n",
    "        \n",
    "        if key not in local_cache:\n",
    "            local_cache[key] = fn(*args,**kwargs),datetime.datetime.now().timestamp()\n",
    "    \n",
    "        return local_cache[key]\n",
    "    return wrapper\n",
    "\n",
    "@mag_cache\n",
    "def add(x=4,y=5):\n",
    "    time.sleep(3)\n",
    "    return x+y"
   ]
  },
  {
   "cell_type": "code",
   "execution_count": 10,
   "metadata": {},
   "outputs": [
    {
     "data": {
      "text/plain": [
       "(9, datetime.datetime(2019, 9, 3, 22, 39, 12, 659501))"
      ]
     },
     "execution_count": 10,
     "metadata": {},
     "output_type": "execute_result"
    }
   ],
   "source": [
    "add()"
   ]
  },
  {
   "cell_type": "code",
   "execution_count": 11,
   "metadata": {},
   "outputs": [
    {
     "data": {
      "text/plain": [
       "(9, datetime.datetime(2019, 9, 3, 22, 39, 12, 659501))"
      ]
     },
     "execution_count": 11,
     "metadata": {},
     "output_type": "execute_result"
    }
   ],
   "source": [
    "add(4,5)"
   ]
  },
  {
   "cell_type": "code",
   "execution_count": 12,
   "metadata": {},
   "outputs": [
    {
     "data": {
      "text/plain": [
       "(9, datetime.datetime(2019, 9, 3, 22, 39, 12, 659501))"
      ]
     },
     "execution_count": 12,
     "metadata": {},
     "output_type": "execute_result"
    }
   ],
   "source": [
    "add(x=4,y=5)"
   ]
  },
  {
   "cell_type": "code",
   "execution_count": 13,
   "metadata": {},
   "outputs": [
    {
     "data": {
      "text/plain": [
       "(9, datetime.datetime(2019, 9, 3, 22, 39, 12, 659501))"
      ]
     },
     "execution_count": 13,
     "metadata": {},
     "output_type": "execute_result"
    }
   ],
   "source": [
    "add(y=5,x=4)"
   ]
  },
  {
   "cell_type": "code",
   "execution_count": null,
   "metadata": {},
   "outputs": [],
   "source": []
  }
 ],
 "metadata": {
  "kernelspec": {
   "display_name": "Python 3",
   "language": "python",
   "name": "python3"
  },
  "language_info": {
   "codemirror_mode": {
    "name": "ipython",
    "version": 3
   },
   "file_extension": ".py",
   "mimetype": "text/x-python",
   "name": "python",
   "nbconvert_exporter": "python",
   "pygments_lexer": "ipython3",
   "version": "3.6.8"
  }
 },
 "nbformat": 4,
 "nbformat_minor": 2
}
